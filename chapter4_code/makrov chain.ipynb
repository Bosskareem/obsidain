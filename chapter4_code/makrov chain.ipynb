{
 "cells": [
  {
   "cell_type": "code",
   "execution_count": 2,
   "metadata": {
    "collapsed": true
   },
   "outputs": [
    {
     "data": {
      "text/plain": "array([[0.99, 0.01],\n       [0.3 , 0.97]])"
     },
     "execution_count": 2,
     "metadata": {},
     "output_type": "execute_result"
    }
   ],
   "source": [
    "import numpy as np\n",
    "M = np.array([[0.99,0.01],[0.3,.97]])\n",
    "M"
   ]
  },
  {
   "cell_type": "code",
   "execution_count": 10,
   "outputs": [],
   "source": [
    "num = int(input(\"enter the number\"))"
   ],
   "metadata": {
    "collapsed": false,
    "pycharm": {
     "name": "#%%\n"
    }
   }
  },
  {
   "cell_type": "code",
   "execution_count": 11,
   "outputs": [
    {
     "name": "stdout",
     "output_type": "stream",
     "text": [
      "5\n",
      "4\n",
      "3\n",
      "2\n",
      "1\n",
      "1 numbers printed\n"
     ]
    }
   ],
   "source": [
    "if num ==0:\n",
    "    print('sorry,the number you zero')\n",
    "elif num <0:\n",
    "    print('sorry,number entered lesser than zero')\n",
    "else:\n",
    "    while num > 0:\n",
    "        num -=1\n",
    "        if num ==6:\n",
    "            continue\n",
    "        print(num)\n",
    "\n",
    "        if num == 1 :\n",
    "            break\n",
    "print(f\"{num} numbers printed\")"
   ],
   "metadata": {
    "collapsed": false,
    "pycharm": {
     "name": "#%%\n"
    }
   }
  },
  {
   "cell_type": "code",
   "execution_count": 16,
   "outputs": [
    {
     "name": "stdout",
     "output_type": "stream",
     "text": [
      "9\n",
      "8\n",
      "7\n",
      "5\n",
      "4\n",
      "3\n",
      "2\n",
      "1\n",
      "0\n",
      "succes10\n"
     ]
    }
   ],
   "source": [
    "num = int(input(\"enter the number\"))\n",
    "ko = num\n",
    "while num >0:\n",
    "    num -=1\n",
    "    if num ==6:\n",
    "        continue\n",
    "    print(num)\n",
    "else:\n",
    "    print(\"succes\"+str(ko))"
   ],
   "metadata": {
    "collapsed": false,
    "pycharm": {
     "name": "#%%\n"
    }
   }
  },
  {
   "cell_type": "code",
   "execution_count": null,
   "outputs": [],
   "source": [],
   "metadata": {
    "collapsed": false,
    "pycharm": {
     "name": "#%%\n"
    }
   }
  }
 ],
 "metadata": {
  "kernelspec": {
   "display_name": "Python 3",
   "language": "python",
   "name": "python3"
  },
  "language_info": {
   "codemirror_mode": {
    "name": "ipython",
    "version": 2
   },
   "file_extension": ".py",
   "mimetype": "text/x-python",
   "name": "python",
   "nbconvert_exporter": "python",
   "pygments_lexer": "ipython2",
   "version": "2.7.6"
  }
 },
 "nbformat": 4,
 "nbformat_minor": 0
}