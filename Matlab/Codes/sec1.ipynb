{
 "cells": [
  {
   "cell_type": "markdown",
   "metadata": {},
   "source": [
    "## Display:"
   ]
  },
  {
   "cell_type": "code",
   "execution_count": 2,
   "metadata": {},
   "outputs": [
    {
     "name": "stdout",
     "output_type": "stream",
     "text": [
      "for display\n",
      "\n"
     ]
    }
   ],
   "source": [
    "disp(\"for display\")"
   ]
  },
  {
   "cell_type": "markdown",
   "metadata": {},
   "source": [
    "## Colon Operator:"
   ]
  },
  {
   "cell_type": "code",
   "execution_count": null,
   "metadata": {},
   "outputs": [
    {
     "name": "stdout",
     "output_type": "stream",
     "text": [
      "\n",
      "ans =\n",
      "\n",
      "     1     2     3     4     5     6     7     8     9    10\n",
      "\n",
      "\n"
     ]
    }
   ],
   "source": [
    "1:10 "
   ]
  },
  {
   "cell_type": "code",
   "execution_count": 3,
   "metadata": {},
   "outputs": [
    {
     "name": "stdout",
     "output_type": "stream",
     "text": [
      "     1     2     3     4     5     6     7     8     9    10\n",
      "\n",
      "\n"
     ]
    }
   ],
   "source": [
    "disp(1:10)"
   ]
  },
  {
   "cell_type": "code",
   "execution_count": 11,
   "metadata": {},
   "outputs": [
    {
     "name": "stdout",
     "output_type": "stream",
     "text": [
      "    10    17    24    31    38    45    52    59    66    73    80    87    94\n",
      "\n",
      "    10    16    22    28    34    40    46    52    58    64    70    76    82    88    94   100\n",
      "\n",
      "    10    15    20    25    30    35    40    45    50    55    60    65    70    75    80    85    90    95   100\n",
      "\n",
      "\n"
     ]
    }
   ],
   "source": [
    "disp(10:7:100)\n",
    "disp(10:6:100)\n",
    "disp(10:5:100)"
   ]
  },
  {
   "cell_type": "code",
   "execution_count": 9,
   "metadata": {},
   "outputs": [
    {
     "name": "stdout",
     "output_type": "stream",
     "text": [
      "   100    93    86    79    72    65    58    51    44    37    30    23    16\n",
      "\n",
      "   100    94    88    82    76    70    64    58    52    46    40    34    28    22    16    10\n",
      "\n",
      "   100    95    90    85    80    75    70    65    60    55    50    45    40    35    30    25    20    15    10\n",
      "\n",
      "\n"
     ]
    }
   ],
   "source": [
    "disp(100:-7:10)\n",
    "disp(100:-6:10)\n",
    "disp(100:-5:10)"
   ]
  },
  {
   "cell_type": "markdown",
   "metadata": {},
   "source": [
    "## Arithmetic Operations:"
   ]
  },
  {
   "cell_type": "code",
   "execution_count": 4,
   "metadata": {},
   "outputs": [
    {
     "name": "stdout",
     "output_type": "stream",
     "text": [
      "    -2\n",
      "\n",
      "     8\n",
      "\n",
      "    15\n",
      "\n",
      "    0.6000\n",
      "\n",
      "   144\n",
      "\n",
      "    12\n",
      "\n",
      "   NaN\n",
      "\n",
      "\n"
     ]
    }
   ],
   "source": [
    "disp(3-5)\n",
    "disp(3+5)\n",
    "disp(3*5)\n",
    "disp(3/5)\n",
    "disp(12^2)\n",
    "disp(sqrt(144))\n",
    "\n",
    "disp(0/0)"
   ]
  },
  {
   "cell_type": "markdown",
   "metadata": {},
   "source": [
    "## Comments:"
   ]
  },
  {
   "cell_type": "code",
   "execution_count": 6,
   "metadata": {},
   "outputs": [
    {
     "name": "stdout",
     "output_type": "stream",
     "text": [
      "Anything\n",
      "\n"
     ]
    }
   ],
   "source": [
    "% Comment section\n",
    "disp(\"Anything\")"
   ]
  },
  {
   "cell_type": "code",
   "execution_count": 2,
   "metadata": {},
   "outputs": [
    {
     "name": "stdout",
     "output_type": "stream",
     "text": [
      "\n",
      "a =\n",
      "\n",
      "    10\n",
      "\n",
      "\n",
      "z =\n",
      "\n",
      "    24\n",
      "\n",
      "\n",
      "ans =\n",
      "\n",
      "    34\n",
      "\n",
      "\n",
      "ans =\n",
      "\n",
      "    14\n",
      "\n",
      "\n"
     ]
    }
   ],
   "source": [
    "a = 10\n",
    "z = 24\n",
    "\n",
    "a+z\n",
    "\n",
    "z-a\n"
   ]
  },
  {
   "cell_type": "markdown",
   "metadata": {},
   "source": [
    "## clear:"
   ]
  },
  {
   "cell_type": "code",
   "execution_count": 4,
   "metadata": {},
   "outputs": [
    {
     "name": "stderr",
     "output_type": "stream",
     "text": [
      "\u001b[1;31mUnrecognized function or variable 'a'.\n",
      "\n",
      "\u001b[0m"
     ]
    }
   ],
   "source": [
    "a = 10\n",
    "z = 24\n",
    "\n",
    "a+z\n",
    "\n",
    "z-a\n",
    "\n",
    "%* clear content of result box\n",
    "\n",
    "clear a\n",
    "\n",
    "%! a\n",
    "%! using a will cause an error:\n",
    "%! Unrecognized function or variable 'a'."
   ]
  },
  {
   "cell_type": "markdown",
   "metadata": {},
   "source": [
    "## Trigonometric Functions:"
   ]
  },
  {
   "cell_type": "code",
   "execution_count": 16,
   "metadata": {},
   "outputs": [
    {
     "name": "stdout",
     "output_type": "stream",
     "text": [
      "   -0.9900\n",
      "\n",
      "    0.1411\n",
      "\n",
      "   -0.1425\n",
      "\n",
      "   -1.0101\n",
      "\n",
      "    7.0862\n",
      "\n",
      "   -7.0153\n",
      "\n",
      "\n"
     ]
    }
   ],
   "source": [
    "disp(cos(3))\n",
    "disp(sin(3))\n",
    "disp(tan(3))\n",
    "disp(sec(3))\n",
    "disp(csc(3))\n",
    "disp(cot(3))"
   ]
  },
  {
   "cell_type": "markdown",
   "metadata": {},
   "source": [
    "## Inverse Trigonometric Functions:"
   ]
  },
  {
   "cell_type": "code",
   "execution_count": 7,
   "metadata": {},
   "outputs": [
    {
     "name": "stdout",
     "output_type": "stream",
     "text": [
      "   1.5708 - 1.7627i\n",
      "\n",
      "   0.0000 + 1.7627i\n",
      "\n",
      "    1.2490\n",
      "\n",
      "    1.2310\n",
      "\n",
      "    0.3398\n",
      "\n",
      "    0.3218\n",
      "\n",
      "\n"
     ]
    }
   ],
   "source": [
    "disp(asin(3))\n",
    "disp(acos(3))\n",
    "disp(atan(3))\n",
    "disp(asec(3))\n",
    "disp(acsc(3))\n",
    "disp(acot(3))"
   ]
  },
  {
   "cell_type": "code",
   "execution_count": 3,
   "metadata": {},
   "outputs": [
    {
     "name": "stdout",
     "output_type": "stream",
     "text": [
      "\n",
      "q =\n",
      "\n",
      "     1\n",
      "\n",
      "\n",
      "q =\n",
      "\n",
      "    2.7183\n",
      "\n",
      "\n",
      "q =\n",
      "\n",
      "    7.3891\n",
      "\n",
      "\n",
      "ans =\n",
      "\n",
      "   10.3891\n",
      "\n",
      "\n"
     ]
    }
   ],
   "source": [
    "q = exp(0)\n",
    "\n",
    "q = exp(1)\n",
    "\n",
    "q = exp(2)\n",
    "\n",
    "q + 3\n"
   ]
  },
  {
   "cell_type": "markdown",
   "metadata": {},
   "source": [
    "## Approximation:"
   ]
  },
  {
   "cell_type": "code",
   "execution_count": 4,
   "metadata": {},
   "outputs": [
    {
     "name": "stdout",
     "output_type": "stream",
     "text": [
      "\n",
      "a =\n",
      "\n",
      "    6.3000\n",
      "\n",
      "\n",
      "ans =\n",
      "\n",
      "     7\n",
      "\n",
      "\n",
      "ans =\n",
      "\n",
      "     6\n",
      "\n",
      "\n"
     ]
    }
   ],
   "source": [
    "a = 6.3\n",
    "ceil(a)\n",
    "%~ rounds to the next (higher) integer , in the +infinity direction\n",
    "\n",
    "floor(a)\n",
    "%~ rounds to the next lower integer, in the -infinity direction"
   ]
  },
  {
   "cell_type": "code",
   "execution_count": null,
   "metadata": {},
   "outputs": [],
   "source": []
  }
 ],
 "metadata": {
  "kernelspec": {
   "display_name": "Matlab",
   "language": "matlab",
   "name": "python3811jvsc74a57bd0e319af03397705d7fa7b261c87ef2c864e68a44eb20094866b8e6d7315ac69e4"
  },
  "language_info": {
   "codemirror_mode": "octave",
   "file_extension": ".m",
   "help_links": [
    {
     "text": "MetaKernel Magics",
     "url": "https://metakernel.readthedocs.io/en/latest/source/README.html"
    }
   ],
   "mimetype": "text/x-octave",
   "name": "matlab",
   "version": "0.16.11"
  },
  "orig_nbformat": 4
 },
 "nbformat": 4,
 "nbformat_minor": 2
}
