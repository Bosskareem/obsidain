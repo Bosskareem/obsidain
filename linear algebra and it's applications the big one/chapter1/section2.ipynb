{
 "cells": [
  {
   "cell_type": "code",
   "execution_count": 3,
   "metadata": {},
   "outputs": [],
   "source": [
    "import numpy as np\n",
    "import sympy as sym\n"
   ]
  },
  {
   "cell_type": "code",
   "execution_count": 4,
   "metadata": {},
   "outputs": [
    {
     "data": {
      "text/plain": [
       "(Matrix([\n",
       " [1, 0, -2, 9],\n",
       " [0, 1,  1, 3]]),\n",
       " (0, 1))"
      ]
     },
     "execution_count": 4,
     "metadata": {},
     "output_type": "execute_result"
    }
   ],
   "source": [
    "#practise problems1\n",
    "A = sym.Matrix([[1,-3,-5,0],[0,1,1,3]])\n",
    "A.rref(pivots=False)\n",
    "A.rref()"
   ]
  },
  {
   "cell_type": "code",
   "execution_count": 6,
   "metadata": {},
   "outputs": [
    {
     "data": {
      "text/plain": [
       "(Matrix([\n",
       " [1, 0, 0, -5/2, 8],\n",
       " [0, 1, 0, -5/2, 3],\n",
       " [0, 0, 1, -1/2, 2]]),\n",
       " (0, 1, 2))"
      ]
     },
     "execution_count": 6,
     "metadata": {},
     "output_type": "execute_result"
    }
   ],
   "source": [
    "3#pracitse problem 2\n",
    "A= sym.Matrix([[1,-2,-1,3,0],[-2,3,5,-5,3],[4,-6,-6,8,2]])\n",
    "A.rref()"
   ]
  },
  {
   "cell_type": "code",
   "execution_count": null,
   "metadata": {},
   "outputs": [],
   "source": []
  }
 ],
 "metadata": {
  "interpreter": {
   "hash": "a7f3cb3132b2e7a93e2526aa7c83490decf4856355b237bdac0e8196b393475b"
  },
  "kernelspec": {
   "display_name": "Python 3.7.11 ('base')",
   "language": "python",
   "name": "python3"
  },
  "language_info": {
   "codemirror_mode": {
    "name": "ipython",
    "version": 3
   },
   "file_extension": ".py",
   "mimetype": "text/x-python",
   "name": "python",
   "nbconvert_exporter": "python",
   "pygments_lexer": "ipython3",
   "version": "3.7.11"
  },
  "orig_nbformat": 4
 },
 "nbformat": 4,
 "nbformat_minor": 2
}
